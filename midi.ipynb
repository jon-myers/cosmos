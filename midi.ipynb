{
 "cells": [
  {
   "cell_type": "code",
   "execution_count": 9,
   "metadata": {},
   "outputs": [
    {
     "ename": "StreamException",
     "evalue": "The object you tried to add to the Stream, <music21.midi.MidiTrack 0 -- 1 events>, is not a Music21Object.  Use an ElementWrapper object if this is what you intend.",
     "output_type": "error",
     "traceback": [
      "\u001b[0;31m---------------------------------------------------------------------------\u001b[0m",
      "\u001b[0;31mStreamException\u001b[0m                           Traceback (most recent call last)",
      "Cell \u001b[0;32mIn[9], line 13\u001b[0m\n\u001b[1;32m     10\u001b[0m mt\u001b[39m.\u001b[39mevents\u001b[39m.\u001b[39mappend(me1)\n\u001b[1;32m     12\u001b[0m stream1 \u001b[39m=\u001b[39m stream\u001b[39m.\u001b[39mStream()\n\u001b[0;32m---> 13\u001b[0m stream1\u001b[39m.\u001b[39;49mappend(mt)\n\u001b[1;32m     15\u001b[0m \u001b[39m# stream.Score(mt)\u001b[39;00m\n\u001b[1;32m     16\u001b[0m \n\u001b[1;32m     17\u001b[0m \u001b[39m# mt.show()\u001b[39;00m\n\u001b[0;32m   (...)\u001b[0m\n\u001b[1;32m     21\u001b[0m \u001b[39m# print(b)\u001b[39;00m\n\u001b[1;32m     22\u001b[0m \u001b[39m# b.show('midi')\u001b[39;00m\n",
      "File \u001b[0;32m~/anaconda3/envs/musicMaker/lib/python3.11/site-packages/music21/stream/base.py:2637\u001b[0m, in \u001b[0;36mStream.append\u001b[0;34m(self, others)\u001b[0m\n\u001b[1;32m   2635\u001b[0m updateIsFlat \u001b[39m=\u001b[39m \u001b[39mFalse\u001b[39;00m\n\u001b[1;32m   2636\u001b[0m \u001b[39mfor\u001b[39;00m e \u001b[39min\u001b[39;00m others:\n\u001b[0;32m-> 2637\u001b[0m     \u001b[39mself\u001b[39;49m\u001b[39m.\u001b[39;49mcoreGuardBeforeAddElement(e)\n\u001b[1;32m   2638\u001b[0m     \u001b[39mif\u001b[39;00m e\u001b[39m.\u001b[39misStream:  \u001b[39m# any on that is a Stream req update\u001b[39;00m\n\u001b[1;32m   2639\u001b[0m         updateIsFlat \u001b[39m=\u001b[39m \u001b[39mTrue\u001b[39;00m\n",
      "File \u001b[0;32m~/anaconda3/envs/musicMaker/lib/python3.11/site-packages/music21/stream/core.py:440\u001b[0m, in \u001b[0;36mStreamCore.coreGuardBeforeAddElement\u001b[0;34m(self, element, checkRedundancy)\u001b[0m\n\u001b[1;32m    436\u001b[0m     \u001b[39mif\u001b[39;00m \u001b[39misinstance\u001b[39m(element, StreamIterator):\n\u001b[1;32m    437\u001b[0m         \u001b[39mraise\u001b[39;00m StreamException(\n\u001b[1;32m    438\u001b[0m             \u001b[39m'\u001b[39m\u001b[39mcannot insert StreamIterator into a Stream\u001b[39m\u001b[39m\\n\u001b[39;00m\u001b[39m'\u001b[39m\n\u001b[1;32m    439\u001b[0m             \u001b[39m\"\u001b[39m\u001b[39mIterate over it instead (User\u001b[39m\u001b[39m'\u001b[39m\u001b[39ms Guide chs. 6 and 26)\u001b[39m\u001b[39m\"\u001b[39m)\n\u001b[0;32m--> 440\u001b[0m     \u001b[39mraise\u001b[39;00m StreamException(\n\u001b[1;32m    441\u001b[0m         \u001b[39mf\u001b[39m\u001b[39m'\u001b[39m\u001b[39mThe object you tried to add to the Stream, \u001b[39m\u001b[39m{\u001b[39;00melement\u001b[39m!r}\u001b[39;00m\u001b[39m, \u001b[39m\u001b[39m'\u001b[39m\n\u001b[1;32m    442\u001b[0m         \u001b[39m+\u001b[39m \u001b[39m'\u001b[39m\u001b[39mis not a Music21Object.  Use an ElementWrapper object \u001b[39m\u001b[39m'\u001b[39m\n\u001b[1;32m    443\u001b[0m         \u001b[39m+\u001b[39m \u001b[39m'\u001b[39m\u001b[39mif this is what you intend.\u001b[39m\u001b[39m'\u001b[39m)\n\u001b[1;32m    444\u001b[0m \u001b[39mif\u001b[39;00m checkRedundancy:\n\u001b[1;32m    445\u001b[0m     \u001b[39m# using id() here b/c we do not want to get __eq__ comparisons\u001b[39;00m\n\u001b[1;32m    446\u001b[0m     idElement \u001b[39m=\u001b[39m \u001b[39mid\u001b[39m(element)\n",
      "\u001b[0;31mStreamException\u001b[0m: The object you tried to add to the Stream, <music21.midi.MidiTrack 0 -- 1 events>, is not a Music21Object.  Use an ElementWrapper object if this is what you intend."
     ]
    }
   ],
   "source": [
    "from music21 import midi, corpus, stream\n",
    "mt = midi.MidiTrack()\n",
    "me1 = midi.MidiEvent(mt)\n",
    "me1.type = midi.ChannelVoiceMessages.NOTE_ON\n",
    "me1.channel = 1\n",
    "me1.pitch = 60\n",
    "me1.velocity = 100\n",
    "me1.time = 0\n",
    "# playback midi track\n",
    "mt.events.append(me1)\n",
    "\n",
    "stream1 = stream.Stream()\n",
    "stream1.append(me1)\n",
    "\n",
    "# stream.Score(mt)\n",
    "\n",
    "# mt.show()\n",
    "# print(me1)\n",
    "\n",
    "# b = corpus.parse('bwv66.6')\n",
    "# print(b)\n",
    "# b.show('midi')"
   ]
  }
 ],
 "metadata": {
  "kernelspec": {
   "display_name": "musicMaker",
   "language": "python",
   "name": "python3"
  },
  "language_info": {
   "codemirror_mode": {
    "name": "ipython",
    "version": 3
   },
   "file_extension": ".py",
   "mimetype": "text/x-python",
   "name": "python",
   "nbconvert_exporter": "python",
   "pygments_lexer": "ipython3",
   "version": "3.11.3"
  },
  "orig_nbformat": 4
 },
 "nbformat": 4,
 "nbformat_minor": 2
}
